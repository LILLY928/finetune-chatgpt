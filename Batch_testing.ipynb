{
 "cells": [
  {
   "cell_type": "markdown",
   "id": "70636641-2c59-4594-ac8d-87d2ed802d2d",
   "metadata": {},
   "source": [
    "# Testing baseline and finetuned model v1 and v2\n",
    "use batch API to test the performance of baseline and finetuned models with the testing data\n",
    "this procedure is faster than getting the performance synchronously"
   ]
  },
  {
   "cell_type": "code",
   "execution_count": null,
   "id": "622bdd2b-e3f8-4163-96a1-77d7f41549f8",
   "metadata": {},
   "outputs": [],
   "source": [
    "from openai import OpenAI\n",
    "import os\n",
    "import json\n",
    "import random\n",
    "import pandas as pd\n",
    "from sklearn.metrics import classification_report\n",
    "from sklearn.model_selection import train_test_split\n",
    "import matplotlib.pyplot as plt\n",
    "#client = OpenAI()"
   ]
  },
  {
   "cell_type": "raw",
   "id": "8c82bab8-e67b-4620-ba84-35a387aae413",
   "metadata": {},
   "source": [
    "{\n",
    "  \"custom_id\": \"request-1\",\n",
    "  \"method\": \"POST\",\n",
    "  \"url\": \"/v1/chat/completions\",\n",
    "  \"body\": {\n",
    "    \"model\": \"gpt-4o-mini\", # or ft:gpt-4o-mini-2024-07-18:personal::AUMikiwC\n",
    "    \"messages\": [\n",
    "      {\n",
    "        \"role\": \"system\",\n",
    "        \"content\": \"Classify using one label: O, B-PERSON, B-NORP, B-LOC, B-GOD, B-GPE, I-LOC, I-PERSON, I-GOD, B-LANGUAGE, B-ORG, I-LANGUAGE, I-NORP, B-WORK, B-EVENT.\"\n",
    "      },\n",
    "      {\n",
    "        \"role\": \"user\",\n",
    "        \"content\": \"\\u1f48\\u03bb\\u03c5\\u03bc\\u03c0\\u03b9\\u1f71\\u03b4\\u03bf\\u03c2\"\n",
    "      }\n",
    "    ],\n",
    "    \"max_tokens\": 5,\n",
    "    \"temperature\": 0\n",
    "  }\n",
    "}\n"
   ]
  },
  {
   "cell_type": "markdown",
   "id": "844d858b-f06a-4827-9f87-4092e4a71d66",
   "metadata": {},
   "source": [
    "# Testing the baseline model\n",
    "1. create the jsonl file for submission\n",
    "2. submit to batch API\n",
    "3. extract prediction from returned result\n",
    "4. extract target from validation.jsonl\n",
    "5. get the report"
   ]
  },
  {
   "cell_type": "code",
   "execution_count": 23,
   "id": "5426d54c-5fce-4d61-b95a-fa565d84d2cd",
   "metadata": {},
   "outputs": [
    {
     "name": "stdout",
     "output_type": "stream",
     "text": [
      "JSONL file 'base_requests.jsonl' created successfully!\n"
     ]
    }
   ],
   "source": [
    "#batch file for baseline model\n",
    "# Input file with Greek words (one word per line)\n",
    "input_file = 'validation.jsonl'  \n",
    "output_file = 'base_requests.jsonl' \n",
    "greek_words= []\n",
    "\n",
    "# Load Greek words from input file\n",
    "with open(input_file, 'r', encoding='utf-8') as file:\n",
    "    for line in file:\n",
    "        data = json.loads(line)\n",
    "        messages = data.get(\"messages\", [])\n",
    "        words = [msg[\"content\"] for msg in messages if msg[\"role\"] == \"user\"]\n",
    "        greek_words.extend(words)\n",
    "\n",
    "# Generate JSONL data\n",
    "with open(output_file, 'w', encoding='utf-8') as outfile:\n",
    "    for i, word in enumerate(greek_words, start=1):  # Start custom_id from 1\n",
    "        request = {\n",
    "            \"custom_id\": f\"request-{i}\",\n",
    "            \"method\": \"POST\",\n",
    "            \"url\": \"/v1/chat/completions\",\n",
    "            \"body\": {\n",
    "                \"model\": \"gpt-4o-mini\",\n",
    "                \"messages\": [\n",
    "                    {\n",
    "                        \"role\": \"system\",\n",
    "                        \"content\": \"Classify using one label: O, B-PERSON, B-NORP, B-LOC, B-GOD, B-GPE, I-LOC, I-PERSON, I-GOD, B-LANGUAGE, B-ORG, I-LANGUAGE, I-NORP, B-WORK, B-EVENT.\"\n",
    "                    },\n",
    "                    {\n",
    "                        \"role\": \"user\",\n",
    "                        \"content\": word\n",
    "                    }\n",
    "                ],\n",
    "                \"max_tokens\": 5,\n",
    "                \"temperature\": 0\n",
    "            }\n",
    "        }\n",
    "        # Write JSON object as a line in JSONL file\n",
    "        outfile.write(json.dumps(request) + '\\n')\n",
    "\n",
    "print(f\"JSONL file '{output_file}' created successfully!\")\n"
   ]
  },
  {
   "cell_type": "code",
   "execution_count": 25,
   "id": "a3f88476-c043-43a8-a2a6-3cc5abc7b132",
   "metadata": {},
   "outputs": [
    {
     "data": {
      "text/plain": [
       "FileObject(id='file-TNTRFdv8OW26wWyQxniw22mo', bytes=5428664, created_at=1731962606, filename='base_requests.jsonl', object='file', purpose='batch', status='processed', status_details=None)"
      ]
     },
     "execution_count": 25,
     "metadata": {},
     "output_type": "execute_result"
    }
   ],
   "source": [
    "# client.files.create(\n",
    "#   file=open(\"base_requests.jsonl\", \"rb\"),\n",
    "#   purpose=\"batch\"\n",
    "# )"
   ]
  },
  {
   "cell_type": "code",
   "execution_count": 29,
   "id": "f2456c59-ed6f-4186-9e38-eaa1f0a8a7e9",
   "metadata": {},
   "outputs": [
    {
     "data": {
      "text/plain": [
       "Batch(id='batch_673ba70207388190b34a4d070f606e93', completion_window='24h', created_at=1731962626, endpoint='/v1/chat/completions', input_file_id='file-TNTRFdv8OW26wWyQxniw22mo', object='batch', status='validating', cancelled_at=None, cancelling_at=None, completed_at=None, error_file_id=None, errors=None, expired_at=None, expires_at=1732049026, failed_at=None, finalizing_at=None, in_progress_at=None, metadata=None, output_file_id=None, request_counts=BatchRequestCounts(completed=0, failed=0, total=0))"
      ]
     },
     "execution_count": 29,
     "metadata": {},
     "output_type": "execute_result"
    }
   ],
   "source": [
    "# client.batches.create(\n",
    "#   input_file_id=\"file-TNTRFdv8OW26wWyQxniw22mo\",\n",
    "#   endpoint=\"/v1/chat/completions\",\n",
    "#   completion_window=\"24h\"\n",
    "# )"
   ]
  },
  {
   "cell_type": "code",
   "execution_count": 15,
   "id": "2f431ec9-8544-4927-84f4-6139bd62aa91",
   "metadata": {},
   "outputs": [
    {
     "data": {
      "text/plain": [
       "Batch(id='batch_673ba70207388190b34a4d070f606e93', completion_window='24h', created_at=1731962626, endpoint='/v1/chat/completions', input_file_id='file-TNTRFdv8OW26wWyQxniw22mo', object='batch', status='completed', cancelled_at=None, cancelling_at=None, completed_at=1731981202, error_file_id=None, errors=None, expired_at=None, expires_at=1732049026, failed_at=None, finalizing_at=1731979689, in_progress_at=1731962689, metadata=None, output_file_id='file-XyJ5rwvcqwWFtxrSWFnRZyy7', request_counts=BatchRequestCounts(completed=13414, failed=0, total=13414))"
      ]
     },
     "execution_count": 15,
     "metadata": {},
     "output_type": "execute_result"
    }
   ],
   "source": [
    "client.batches.retrieve(\"batch_673ba70207388190b34a4d070f606e93\")"
   ]
  },
  {
   "cell_type": "code",
   "execution_count": 33,
   "id": "61cbcd52-e859-4aac-97c0-cfcc396b2c33",
   "metadata": {},
   "outputs": [],
   "source": [
    "y_true = []  # List to store the actual labels\n",
    "# Extract and store the target value\n",
    "with open(\"validation.jsonl\", \"r\", encoding=\"utf-8\") as file:\n",
    "    for line in file:\n",
    "        data = json.loads(line)\n",
    "    \n",
    "        for message in data.get(\"messages\", []):\n",
    "            if message[\"role\"] == \"assistant\":\n",
    "                target_label = message[\"content\"]\n",
    "                y_true.append(target_label)"
   ]
  },
  {
   "cell_type": "code",
   "execution_count": 27,
   "id": "aba1780b-c286-41f1-b145-15f03651beb0",
   "metadata": {},
   "outputs": [
    {
     "name": "stdout",
     "output_type": "stream",
     "text": [
      "File saved successfully as 'base_results.txt'\n",
      "All custom_id values are sequential.\n"
     ]
    }
   ],
   "source": [
    "file_response = client.files.content(\"file-XyJ5rwvcqwWFtxrSWFnRZyy7\")\n",
    "file_content = file_response.text  # Get the text content from the response\n",
    "\n",
    "# Save the content to a file\n",
    "with open(\"base_results.txt\", \"w\", encoding=\"utf-8\") as file:\n",
    "    file.write(file_content)\n",
    "\n",
    "print(\"File saved successfully as 'base_results.txt'\")\n",
    "file_path = \"base_results.txt\"  # Replace with your file's path\n",
    "result = verify_sequential_custom_id(file_path)\n",
    "print(result)"
   ]
  },
  {
   "cell_type": "code",
   "execution_count": 29,
   "id": "1465d5b6-5e66-43b2-baff-63196c9f67d3",
   "metadata": {},
   "outputs": [],
   "source": [
    "y_pred = []  # To store the extracted content\n",
    "\n",
    "with open(\"base_results.txt\", 'r', encoding='utf-8') as file:\n",
    "    for line_number, line in enumerate(file, start=1):\n",
    "        try:\n",
    "            # Parse the JSON object from the line\n",
    "            data = json.loads(line.strip())\n",
    "\n",
    "            # Navigate to the desired field\n",
    "            content = data[\"response\"][\"body\"][\"choices\"][0][\"message\"][\"content\"]\n",
    "            y_pred.append(content)\n",
    "\n",
    "        except (json.JSONDecodeError, KeyError) as e:\n",
    "            print(f\"Error parsing line {line_number}: {e}\")"
   ]
  },
  {
   "cell_type": "code",
   "execution_count": 35,
   "id": "4b50a1c5-5514-43a9-8bf9-89f8c6140d6c",
   "metadata": {},
   "outputs": [
    {
     "name": "stderr",
     "output_type": "stream",
     "text": [
      "C:\\Users\\DELL\\anaconda3\\Lib\\site-packages\\sklearn\\metrics\\_classification.py:1509: UndefinedMetricWarning: Precision is ill-defined and being set to 0.0 in labels with no predicted samples. Use `zero_division` parameter to control this behavior.\n",
      "  _warn_prf(average, modifier, f\"{metric.capitalize()} is\", len(result))\n",
      "C:\\Users\\DELL\\anaconda3\\Lib\\site-packages\\sklearn\\metrics\\_classification.py:1509: UndefinedMetricWarning: Recall is ill-defined and being set to 0.0 in labels with no true samples. Use `zero_division` parameter to control this behavior.\n",
      "  _warn_prf(average, modifier, f\"{metric.capitalize()} is\", len(result))\n",
      "C:\\Users\\DELL\\anaconda3\\Lib\\site-packages\\sklearn\\metrics\\_classification.py:1509: UndefinedMetricWarning: F-score is ill-defined and being set to 0.0 in labels with no true nor predicted samples. Use `zero_division` parameter to control this behavior.\n",
      "  _warn_prf(average, modifier, f\"{metric.capitalize()} is\", len(result))\n",
      "C:\\Users\\DELL\\anaconda3\\Lib\\site-packages\\sklearn\\metrics\\_classification.py:1509: UndefinedMetricWarning: Precision is ill-defined and being set to 0.0 in labels with no predicted samples. Use `zero_division` parameter to control this behavior.\n",
      "  _warn_prf(average, modifier, f\"{metric.capitalize()} is\", len(result))\n",
      "C:\\Users\\DELL\\anaconda3\\Lib\\site-packages\\sklearn\\metrics\\_classification.py:1509: UndefinedMetricWarning: Recall is ill-defined and being set to 0.0 in labels with no true samples. Use `zero_division` parameter to control this behavior.\n",
      "  _warn_prf(average, modifier, f\"{metric.capitalize()} is\", len(result))\n",
      "C:\\Users\\DELL\\anaconda3\\Lib\\site-packages\\sklearn\\metrics\\_classification.py:1509: UndefinedMetricWarning: F-score is ill-defined and being set to 0.0 in labels with no true nor predicted samples. Use `zero_division` parameter to control this behavior.\n",
      "  _warn_prf(average, modifier, f\"{metric.capitalize()} is\", len(result))\n"
     ]
    },
    {
     "name": "stdout",
     "output_type": "stream",
     "text": [
      "Classification Report of the baseline model:\n",
      "              precision    recall  f1-score   support\n",
      "\n",
      "           O       1.00      0.92      0.96     12437\n",
      "    B-PERSON       0.63      0.75      0.69       454\n",
      "      B-NORP       0.66      0.52      0.58       300\n",
      "       B-LOC       0.35      0.69      0.47       152\n",
      "       B-GOD       0.05      0.83      0.09        48\n",
      "       B-GPE       0.00      0.00      0.00         7\n",
      "       I-LOC       0.00      0.00      0.00         6\n",
      "    I-PERSON       0.00      0.00      0.00         4\n",
      "       I-GOD       0.00      0.00      0.00         2\n",
      "  B-LANGUAGE       0.00      0.00      0.00         2\n",
      "       B-ORG       0.00      0.00      0.00         1\n",
      "  I-LANGUAGE       0.00      0.00      0.00         1\n",
      "      I-NORP       0.00      0.00      0.00         0\n",
      "      B-WORK       0.00      0.00      0.00         0\n",
      "     B-EVENT       0.00      0.00      0.00         0\n",
      "\n",
      "   micro avg       0.90      0.90      0.90     13414\n",
      "   macro avg       0.18      0.25      0.19     13414\n",
      "weighted avg       0.97      0.90      0.93     13414\n",
      "\n"
     ]
    },
    {
     "name": "stderr",
     "output_type": "stream",
     "text": [
      "C:\\Users\\DELL\\anaconda3\\Lib\\site-packages\\sklearn\\metrics\\_classification.py:1509: UndefinedMetricWarning: Precision is ill-defined and being set to 0.0 in labels with no predicted samples. Use `zero_division` parameter to control this behavior.\n",
      "  _warn_prf(average, modifier, f\"{metric.capitalize()} is\", len(result))\n",
      "C:\\Users\\DELL\\anaconda3\\Lib\\site-packages\\sklearn\\metrics\\_classification.py:1509: UndefinedMetricWarning: Recall is ill-defined and being set to 0.0 in labels with no true samples. Use `zero_division` parameter to control this behavior.\n",
      "  _warn_prf(average, modifier, f\"{metric.capitalize()} is\", len(result))\n",
      "C:\\Users\\DELL\\anaconda3\\Lib\\site-packages\\sklearn\\metrics\\_classification.py:1509: UndefinedMetricWarning: F-score is ill-defined and being set to 0.0 in labels with no true nor predicted samples. Use `zero_division` parameter to control this behavior.\n",
      "  _warn_prf(average, modifier, f\"{metric.capitalize()} is\", len(result))\n"
     ]
    }
   ],
   "source": [
    "#Then we calculate precision, recall, F1-score, and support\n",
    "base_report = classification_report(y_true, y_pred, labels=[\n",
    "    'O', 'B-PERSON', 'B-NORP', 'B-LOC', 'B-GOD', 'B-GPE', 'I-LOC', 'I-PERSON', 'I-GOD',\n",
    "    'B-LANGUAGE', 'B-ORG', 'I-LANGUAGE', 'I-NORP', 'B-WORK', 'B-EVENT'])\n",
    "print(\"Classification Report of the baseline model:\")\n",
    "print(base_report)"
   ]
  },
  {
   "cell_type": "markdown",
   "id": "b00e99dc-7e1a-4bed-a5da-726aa2af212f",
   "metadata": {},
   "source": [
    "# Testing the finetuned model\n",
    "1. create the jsonl file for submission\n",
    "2. submit to batch API\n",
    "3. extract prediction from returned result\n",
    "4. extract target from validation.jsonl\n",
    "5. get the report"
   ]
  },
  {
   "cell_type": "code",
   "execution_count": 3,
   "id": "436c77b8-eb2c-49b6-a772-8db8f272db78",
   "metadata": {},
   "outputs": [
    {
     "name": "stdout",
     "output_type": "stream",
     "text": [
      "JSONL file 'ft_v2_requests.jsonl' created successfully!\n"
     ]
    }
   ],
   "source": [
    "# batch file for finetuned model\n",
    "# Input file with Greek words (one word per line)\n",
    "input_file = 'validation.jsonl'  \n",
    "output_file = 'ft_v2_requests.jsonl' \n",
    "greek_words= []\n",
    "\n",
    "# Load Greek words from input file\n",
    "with open(input_file, 'r', encoding='utf-8') as file:\n",
    "    for line in file:\n",
    "        data = json.loads(line)\n",
    "        messages = data.get(\"messages\", [])\n",
    "        words = [msg[\"content\"] for msg in messages if msg[\"role\"] == \"user\"]\n",
    "        greek_words.extend(words)\n",
    "\n",
    "# Generate JSONL data\n",
    "with open(output_file, 'w', encoding='utf-8') as outfile:\n",
    "    for i, word in enumerate(greek_words, start=1):  # Start custom_id from 1\n",
    "        request = {\n",
    "            \"custom_id\": f\"request-{i}\",\n",
    "            \"method\": \"POST\",\n",
    "            \"url\": \"/v1/chat/completions\",\n",
    "            \"body\": {\n",
    "                \"model\": \"ft:gpt-4o-mini-2024-07-18:personal::AV9yQ9BO:ckpt-step-1016\",\n",
    "                \"messages\": [\n",
    "                    {\n",
    "                        \"role\": \"system\",\n",
    "                        \"content\": \"Classify using one label: O, B-PERSON, B-NORP, B-LOC, B-GOD, B-GPE, I-LOC, I-PERSON, I-GOD, B-LANGUAGE, B-ORG, I-LANGUAGE, I-NORP, B-WORK, B-EVENT.\"\n",
    "                    },\n",
    "                    {\n",
    "                        \"role\": \"user\",\n",
    "                        \"content\": word\n",
    "                    }\n",
    "                ],\n",
    "                \"max_tokens\": 5,\n",
    "                \"temperature\": 0\n",
    "            }\n",
    "        }\n",
    "        # Write JSON object as a line in JSONL file\n",
    "        outfile.write(json.dumps(request) + '\\n')\n",
    "\n",
    "print(f\"JSONL file '{output_file}' created successfully!\")\n"
   ]
  },
  {
   "cell_type": "code",
   "execution_count": 7,
   "id": "9bc3ee9e-324d-4e2b-8107-de0fc8709fe6",
   "metadata": {},
   "outputs": [
    {
     "data": {
      "text/plain": [
       "FileObject(id='file-f57phfTHNRcsGSELgefaHlTw', bytes=6072536, created_at=1732025024, filename='ft_v2_requests.jsonl', object='file', purpose='batch', status='processed', status_details=None)"
      ]
     },
     "execution_count": 7,
     "metadata": {},
     "output_type": "execute_result"
    }
   ],
   "source": [
    "# client.files.create(\n",
    "#   file=open(\"ft_v2_requests.jsonl\", \"rb\"),\n",
    "#   purpose=\"batch\"\n",
    "# )"
   ]
  },
  {
   "cell_type": "code",
   "execution_count": 11,
   "id": "f79db918-0016-4e00-8a6a-963c38553161",
   "metadata": {},
   "outputs": [
    {
     "data": {
      "text/plain": [
       "Batch(id='batch_673c9ae1777c8190b8ea734f694198d1', completion_window='24h', created_at=1732025057, endpoint='/v1/chat/completions', input_file_id='file-f57phfTHNRcsGSELgefaHlTw', object='batch', status='validating', cancelled_at=None, cancelling_at=None, completed_at=None, error_file_id=None, errors=None, expired_at=None, expires_at=1732111457, failed_at=None, finalizing_at=None, in_progress_at=None, metadata=None, output_file_id=None, request_counts=BatchRequestCounts(completed=0, failed=0, total=0))"
      ]
     },
     "execution_count": 11,
     "metadata": {},
     "output_type": "execute_result"
    }
   ],
   "source": [
    "# client.batches.create(\n",
    "#   input_file_id=\"file-f57phfTHNRcsGSELgefaHlTw\",\n",
    "#   endpoint=\"/v1/chat/completions\",\n",
    "#   completion_window=\"24h\"\n",
    "# )"
   ]
  },
  {
   "cell_type": "code",
   "execution_count": 39,
   "id": "f8c7fc9e-b849-484b-92c0-d196884828dd",
   "metadata": {},
   "outputs": [
    {
     "data": {
      "text/plain": [
       "Batch(id='batch_673c9ae1777c8190b8ea734f694198d1', completion_window='24h', created_at=1732025057, endpoint='/v1/chat/completions', input_file_id='file-f57phfTHNRcsGSELgefaHlTw', object='batch', status='completed', cancelled_at=None, cancelling_at=None, completed_at=1732028871, error_file_id=None, errors=None, expired_at=None, expires_at=1732111457, failed_at=None, finalizing_at=1732027399, in_progress_at=1732025060, metadata=None, output_file_id='file-d70IHJ0lWbcIzAP33zkViIq4', request_counts=BatchRequestCounts(completed=13414, failed=0, total=13414))"
      ]
     },
     "execution_count": 39,
     "metadata": {},
     "output_type": "execute_result"
    }
   ],
   "source": [
    "client.batches.retrieve(\"batch_673c9ae1777c8190b8ea734f694198d1\")"
   ]
  },
  {
   "cell_type": "code",
   "execution_count": 41,
   "id": "d5ca998a-9d47-40c9-9cce-860469b4df8f",
   "metadata": {},
   "outputs": [
    {
     "name": "stdout",
     "output_type": "stream",
     "text": [
      "File saved successfully as 'ft_v2_results.txt'\n"
     ]
    }
   ],
   "source": [
    "file_response = client.files.content(\"file-d70IHJ0lWbcIzAP33zkViIq4\")\n",
    "file_content = file_response.text  # Get the text content from the response\n",
    "\n",
    "# Save the content to a file\n",
    "with open(\"ft_v2_results.txt\", \"w\", encoding=\"utf-8\") as file:\n",
    "    file.write(file_content)\n",
    "\n",
    "print(\"File saved successfully as 'ft_v2_results.txt'\")"
   ]
  },
  {
   "cell_type": "code",
   "execution_count": 25,
   "id": "b812f919-d449-4324-b8a0-d66b4824f00b",
   "metadata": {},
   "outputs": [],
   "source": [
    "#check the result follow the sequential order (that the previous order is not messed up)\n",
    "def verify_sequential_custom_id(file_path):\n",
    "    previous_request_number = None  # To keep track of the last request number\n",
    "\n",
    "    with open(file_path, 'r', encoding='utf-8') as file:\n",
    "        for line_number, line in enumerate(file, start=1):\n",
    "            try:\n",
    "                # Parse each line as JSON\n",
    "                data = json.loads(line.strip())\n",
    "\n",
    "                # Extract the `custom_id` value and its numeric part\n",
    "                custom_id = data.get(\"custom_id\", \"\")\n",
    "                if not custom_id.startswith(\"request-\"):\n",
    "                    raise ValueError(f\"Invalid custom_id format at line {line_number}: {custom_id}\")\n",
    "                \n",
    "                current_request_number = int(custom_id.split(\"-\")[1])\n",
    "\n",
    "                # Check if the current request number follows sequential order\n",
    "                if previous_request_number is not None and current_request_number != previous_request_number + 1:\n",
    "                    return f\"Non-sequential custom_id at line {line_number}: {custom_id}\"\n",
    "\n",
    "                # Update the previous request number\n",
    "                previous_request_number = current_request_number\n",
    "\n",
    "            except (json.JSONDecodeError, ValueError) as e:\n",
    "                return f\"Error parsing line {line_number}: {str(e)}\"\n",
    "\n",
    "    return \"All custom_id values are sequential.\""
   ]
  },
  {
   "cell_type": "code",
   "execution_count": 43,
   "id": "787e03a3-9ea4-4049-adc5-a408d6b7a259",
   "metadata": {},
   "outputs": [
    {
     "name": "stdout",
     "output_type": "stream",
     "text": [
      "All custom_id values are sequential.\n"
     ]
    }
   ],
   "source": [
    "# Example usage\n",
    "file_path = \"ft_v2_results.txt\"  # Replace with your file's path\n",
    "result = verify_sequential_custom_id(file_path)\n",
    "print(result)"
   ]
  },
  {
   "cell_type": "code",
   "execution_count": 45,
   "id": "cb79607f-2e8f-41ee-846c-d5e58602f6fa",
   "metadata": {},
   "outputs": [],
   "source": [
    "y_pred = []  # To store the extracted content\n",
    "\n",
    "with open(\"ft_v2_results.txt\", 'r', encoding='utf-8') as file:\n",
    "    for line_number, line in enumerate(file, start=1):\n",
    "        try:\n",
    "            # Parse the JSON object from the line\n",
    "            data = json.loads(line.strip())\n",
    "\n",
    "            # Navigate to the desired field\n",
    "            content = data[\"response\"][\"body\"][\"choices\"][0][\"message\"][\"content\"]\n",
    "            y_pred.append(content)\n",
    "\n",
    "        except (json.JSONDecodeError, KeyError) as e:\n",
    "            print(f\"Error parsing line {line_number}: {e}\")"
   ]
  },
  {
   "cell_type": "code",
   "execution_count": 47,
   "id": "10f3df41-6211-48ef-b8e4-baf590f883ab",
   "metadata": {
    "scrolled": true
   },
   "outputs": [
    {
     "name": "stderr",
     "output_type": "stream",
     "text": [
      "C:\\Users\\DELL\\anaconda3\\Lib\\site-packages\\sklearn\\metrics\\_classification.py:1509: UndefinedMetricWarning: Recall is ill-defined and being set to 0.0 in labels with no true samples. Use `zero_division` parameter to control this behavior.\n",
      "  _warn_prf(average, modifier, f\"{metric.capitalize()} is\", len(result))\n",
      "C:\\Users\\DELL\\anaconda3\\Lib\\site-packages\\sklearn\\metrics\\_classification.py:1509: UndefinedMetricWarning: Recall is ill-defined and being set to 0.0 in labels with no true samples. Use `zero_division` parameter to control this behavior.\n",
      "  _warn_prf(average, modifier, f\"{metric.capitalize()} is\", len(result))\n"
     ]
    },
    {
     "name": "stdout",
     "output_type": "stream",
     "text": [
      "Classification Report of the ft model:\n",
      "              precision    recall  f1-score   support\n",
      "\n",
      "           O       1.00      0.99      0.99     12437\n",
      "    B-PERSON       0.90      0.96      0.93       454\n",
      "      B-NORP       0.85      0.89      0.87       300\n",
      "       B-LOC       0.77      0.86      0.81       152\n",
      "       B-GOD       0.86      0.77      0.81        48\n",
      "       B-GPE       1.00      0.43      0.60         7\n",
      "       I-LOC       0.01      0.17      0.02         6\n",
      "    I-PERSON       0.08      0.25      0.12         4\n",
      "       I-GOD       0.29      1.00      0.44         2\n",
      "  B-LANGUAGE       0.40      1.00      0.57         2\n",
      "       B-ORG       1.00      1.00      1.00         1\n",
      "  I-LANGUAGE       0.00      0.00      0.00         1\n",
      "      I-NORP       0.00      0.00      0.00         0\n",
      "      B-WORK       0.00      0.00      0.00         0\n",
      "     B-EVENT       0.00      0.00      0.00         0\n",
      "\n",
      "    accuracy                           0.98     13414\n",
      "   macro avg       0.48      0.55      0.48     13414\n",
      "weighted avg       0.99      0.98      0.98     13414\n",
      "\n"
     ]
    },
    {
     "name": "stderr",
     "output_type": "stream",
     "text": [
      "C:\\Users\\DELL\\anaconda3\\Lib\\site-packages\\sklearn\\metrics\\_classification.py:1509: UndefinedMetricWarning: Recall is ill-defined and being set to 0.0 in labels with no true samples. Use `zero_division` parameter to control this behavior.\n",
      "  _warn_prf(average, modifier, f\"{metric.capitalize()} is\", len(result))\n"
     ]
    }
   ],
   "source": [
    "#Then we calculate precision, recall, F1-score, and support\n",
    "ft_report = classification_report(y_true, y_pred, labels=[\n",
    "    'O', 'B-PERSON', 'B-NORP', 'B-LOC', 'B-GOD', 'B-GPE', 'I-LOC', 'I-PERSON', 'I-GOD',\n",
    "    'B-LANGUAGE', 'B-ORG', 'I-LANGUAGE', 'I-NORP', 'B-WORK', 'B-EVENT'])\n",
    "print(\"Classification Report of the ft model:\")\n",
    "print(ft_report)"
   ]
  }
 ],
 "metadata": {
  "kernelspec": {
   "display_name": "Python 3 (ipykernel)",
   "language": "python",
   "name": "python3"
  },
  "language_info": {
   "codemirror_mode": {
    "name": "ipython",
    "version": 3
   },
   "file_extension": ".py",
   "mimetype": "text/x-python",
   "name": "python",
   "nbconvert_exporter": "python",
   "pygments_lexer": "ipython3",
   "version": "3.12.3"
  }
 },
 "nbformat": 4,
 "nbformat_minor": 5
}
